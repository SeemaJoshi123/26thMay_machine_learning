{
 "cells": [
  {
   "cell_type": "code",
   "execution_count": 2,
   "id": "f5229b81",
   "metadata": {},
   "outputs": [],
   "source": [
    "import pandas as pd\n",
    "df=pd.DataFrame({\n",
    "    'Food_Name':['pizza','paneer','dhokla','bhindi','aalufry','rasgulla','gulabjamun','noodles','pasta','karela','mango','momos'],\n",
    "    'price':[20,30,40,50,70,10,80,100,90,30,150,200],\n",
    "    'place':[\"jpr\",\"ajmer\",\"alwar\",'jodhpur',\"jpr\",\"ajmer\",\"alwar\",\"jodhpur\",\"jpr\",\"ajmer\",\"alwar\",\"jodhpur\"],\n",
    "    'colour':['yellow','white','yellow','blue','black','white','red','green','black','orange','yellow','white'],\n",
    "    \"Cuisine\":['japanese','chines','turkish','thai','spanish','indian','morocan','italian','mexican','french','indonesian','indian'],\n",
    "    'Taste':['spicy','salty','spongy','bitter','crunchy','crispy','spicy','salty','yummm','bitter','crunchy','crispy'],\n",
    "    'Rating':[5,2,3,4,1,5,2,4,1,3,4,3]\n",
    "})\n",
    "df\n",
    "\n",
    "costly_food_price=df['price'].max()\n",
    "cheap=df['price'].min()\n",
    "\n",
    "\n",
    "\n",
    "\n",
    "\n"
   ]
  },
  {
   "cell_type": "code",
   "execution_count": 127,
   "id": "4217ee6b",
   "metadata": {},
   "outputs": [
    {
     "data": {
      "text/plain": [
       "11    momos\n",
       "Name: Food_Name, dtype: object"
      ]
     },
     "execution_count": 127,
     "metadata": {},
     "output_type": "execute_result"
    }
   ],
   "source": [
    "#costlier food\n",
    "\n",
    "df.loc[df['price']==costly_food_price,'Food_Name']"
   ]
  },
  {
   "cell_type": "code",
   "execution_count": 4,
   "id": "70b4c20b",
   "metadata": {},
   "outputs": [
    {
     "data": {
      "text/plain": [
       "5    rasgulla\n",
       "Name: Food_Name, dtype: object"
      ]
     },
     "execution_count": 4,
     "metadata": {},
     "output_type": "execute_result"
    }
   ],
   "source": [
    "#cheapest food\n",
    "\n",
    "df.loc[df['price']==cheap,'Food_Name']"
   ]
  },
  {
   "cell_type": "code",
   "execution_count": 6,
   "id": "bbf51102",
   "metadata": {},
   "outputs": [
    {
     "data": {
      "text/html": [
       "<div>\n",
       "<style scoped>\n",
       "    .dataframe tbody tr th:only-of-type {\n",
       "        vertical-align: middle;\n",
       "    }\n",
       "\n",
       "    .dataframe tbody tr th {\n",
       "        vertical-align: top;\n",
       "    }\n",
       "\n",
       "    .dataframe thead th {\n",
       "        text-align: right;\n",
       "    }\n",
       "</style>\n",
       "<table border=\"1\" class=\"dataframe\">\n",
       "  <thead>\n",
       "    <tr style=\"text-align: right;\">\n",
       "      <th></th>\n",
       "      <th>Food_Name</th>\n",
       "      <th>price</th>\n",
       "      <th>place</th>\n",
       "      <th>colour</th>\n",
       "      <th>Cuisine</th>\n",
       "      <th>Taste</th>\n",
       "    </tr>\n",
       "  </thead>\n",
       "  <tbody>\n",
       "    <tr>\n",
       "      <th>4</th>\n",
       "      <td>aalufry</td>\n",
       "      <td>70</td>\n",
       "      <td>jpr</td>\n",
       "      <td>black</td>\n",
       "      <td>spanish</td>\n",
       "      <td>crunchy</td>\n",
       "    </tr>\n",
       "    <tr>\n",
       "      <th>8</th>\n",
       "      <td>pasta</td>\n",
       "      <td>90</td>\n",
       "      <td>jpr</td>\n",
       "      <td>black</td>\n",
       "      <td>mexican</td>\n",
       "      <td>spongy</td>\n",
       "    </tr>\n",
       "  </tbody>\n",
       "</table>\n",
       "</div>"
      ],
      "text/plain": [
       "  Food_Name  price place colour  Cuisine    Taste\n",
       "4   aalufry     70   jpr  black  spanish  crunchy\n",
       "8     pasta     90   jpr  black  mexican   spongy"
      ]
     },
     "execution_count": 6,
     "metadata": {},
     "output_type": "execute_result"
    }
   ],
   "source": [
    "#black food found in jaipur(jpr)\n",
    "\n",
    "df[(df['place']=='jpr') &  (df['colour']=='black') ]"
   ]
  },
  {
   "cell_type": "code",
   "execution_count": 67,
   "id": "9e22c0f2",
   "metadata": {},
   "outputs": [
    {
     "data": {
      "text/plain": [
       "crunchy    2\n",
       "crispy     2\n",
       "bitter     2\n",
       "spongy     2\n",
       "spicy      2\n",
       "salty      2\n",
       "Name: Taste, dtype: int64"
      ]
     },
     "execution_count": 67,
     "metadata": {},
     "output_type": "execute_result"
    }
   ],
   "source": [
    "#counts for different tastes for food\n",
    "\n",
    "df[\"Taste\"].value_counts()"
   ]
  },
  {
   "cell_type": "code",
   "execution_count": 130,
   "id": "be4b5dda",
   "metadata": {},
   "outputs": [
    {
     "data": {
      "text/html": [
       "<div>\n",
       "<style scoped>\n",
       "    .dataframe tbody tr th:only-of-type {\n",
       "        vertical-align: middle;\n",
       "    }\n",
       "\n",
       "    .dataframe tbody tr th {\n",
       "        vertical-align: top;\n",
       "    }\n",
       "\n",
       "    .dataframe thead th {\n",
       "        text-align: right;\n",
       "    }\n",
       "</style>\n",
       "<table border=\"1\" class=\"dataframe\">\n",
       "  <thead>\n",
       "    <tr style=\"text-align: right;\">\n",
       "      <th></th>\n",
       "      <th>Food_Name</th>\n",
       "      <th>price</th>\n",
       "      <th>place</th>\n",
       "      <th>colour</th>\n",
       "      <th>Cuisine</th>\n",
       "      <th>Taste</th>\n",
       "      <th>Rating</th>\n",
       "    </tr>\n",
       "  </thead>\n",
       "  <tbody>\n",
       "    <tr>\n",
       "      <th>0</th>\n",
       "      <td>pizza</td>\n",
       "      <td>20</td>\n",
       "      <td>jpr</td>\n",
       "      <td>yellow</td>\n",
       "      <td>indian</td>\n",
       "      <td>spicy</td>\n",
       "      <td>5</td>\n",
       "    </tr>\n",
       "  </tbody>\n",
       "</table>\n",
       "</div>"
      ],
      "text/plain": [
       "  Food_Name  price place  colour Cuisine  Taste  Rating\n",
       "0     pizza     20   jpr  yellow  indian  spicy       5"
      ]
     },
     "execution_count": 130,
     "metadata": {},
     "output_type": "execute_result"
    }
   ],
   "source": [
    "#food which is available in jaipur and spicy\n",
    "\n",
    "df[(df['place']=='jpr') & (df['Taste']=='spicy')]"
   ]
  },
  {
   "cell_type": "code",
   "execution_count": 25,
   "id": "e6da5bfe",
   "metadata": {},
   "outputs": [
    {
     "data": {
      "text/plain": [
       "0    japanese\n",
       "5      indian\n",
       "Name: Cuisine, dtype: object"
      ]
     },
     "execution_count": 25,
     "metadata": {},
     "output_type": "execute_result"
    }
   ],
   "source": [
    "#most popular cuisine\n",
    "\n",
    "p=df.loc[df['Rating']==cp,'Cuisine']\n",
    "p"
   ]
  }
 ],
 "metadata": {
  "kernelspec": {
   "display_name": "Python 3",
   "language": "python",
   "name": "python3"
  },
  "language_info": {
   "codemirror_mode": {
    "name": "ipython",
    "version": 3
   },
   "file_extension": ".py",
   "mimetype": "text/x-python",
   "name": "python",
   "nbconvert_exporter": "python",
   "pygments_lexer": "ipython3",
   "version": "3.8.8"
  }
 },
 "nbformat": 4,
 "nbformat_minor": 5
}
